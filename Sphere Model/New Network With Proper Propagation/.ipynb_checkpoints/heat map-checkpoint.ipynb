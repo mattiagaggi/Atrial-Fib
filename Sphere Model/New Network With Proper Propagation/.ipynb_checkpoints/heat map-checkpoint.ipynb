{
 "cells": [
  {
   "cell_type": "code",
   "execution_count": null,
   "metadata": {
    "collapsed": true
   },
   "outputs": [],
   "source": [
    "import numpy as np\n",
    "from scipy.sparse import csr_matrix\n",
    "import operator\n",
    "from itertools import chain\n",
    "import time\n",
    "from matplotlib import animation\n",
    "from matplotlib import pyplot as plt\n",
    "from matplotlib import cm\n",
    "from mpl_toolkits.mplot3d import Axes3D\n",
    "import pylab as pl\n",
    "from matplotlib import collections  as mc\n",
    "from mpl_toolkits.mplot3d.art3d import Line3DCollection\n",
    "import types\n",
    "import pickle\n",
    "import ico_prop_projection as sp\n",
    "import Network_Projection_Appended_modified as c\n",
    "\n",
    "\n",
    "time_trial=50000\n",
    "\n",
    "s = sp.Sphere( recursion_level = 6 )\n",
    "conn = c.Define_Connections(s)\n",
    "colours, vconn, hconn, pent_ind = conn.define_connections() #not needed if using pickled data\n",
    "n = c.create_network(array_nodesindices = np.arange(len(colours)),\n",
    "                   array_vertical = vconn,\n",
    "                   array_transv = hconn,\n",
    "                   p_transv = 0.27,\n",
    "                   impulse_start = pent_ind,\n",
    "                   p_dysf = 0.05,\n",
    "                   p_unexcitable = 0.05,\n",
    "                   excitation = 25, \n",
    "                   hbs = 110)\n",
    "\n",
    "runc = c.run(network = n, plot=False,store=True,runs=time_trial,fib_threshold=350)\n",
    "runc.propagate_storageheat(heat_map=True)\n",
    "\n",
    "\n",
    "\n",
    "\n"
   ]
  }
 ],
 "metadata": {
  "kernelspec": {
   "display_name": "Python 3",
   "language": "python",
   "name": "python3"
  },
  "language_info": {
   "codemirror_mode": {
    "name": "ipython",
    "version": 3
   },
   "file_extension": ".py",
   "mimetype": "text/x-python",
   "name": "python",
   "nbconvert_exporter": "python",
   "pygments_lexer": "ipython3",
   "version": "3.6.0"
  }
 },
 "nbformat": 4,
 "nbformat_minor": 2
}

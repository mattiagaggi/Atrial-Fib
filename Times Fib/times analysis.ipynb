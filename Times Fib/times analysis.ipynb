{
 "cells": [
  {
   "cell_type": "code",
   "execution_count": null,
   "metadata": {
    "collapsed": true
   },
   "outputs": [],
   "source": [
    "\n",
    "import numpy as np\n",
    "from matplotlib import pyplot as plt\n",
    "import pickle\n",
    "\n",
    "#Kishan'f Data\n",
    "kishmatrix = np.array([[0.02,0.99981,4.3015e-06],\n",
    "[0.04,0.99983,3.8088e-06],\n",
    "[0.06,0.9998,1.0454e-05],\n",
    "[0.08,0.99968,3.0663e-05],\n",
    "[0.11,0.99772,0.00044859],\n",
    "[0.13,0.96099,0.018246],\n",
    "[0.15,0.60984,0.054379],\n",
    "[0.17,0.16381,0.041092],\n",
    "[0.19,0.017807,0.0080603],\n",
    "[0.21,0.020737,0.016513],\n",
    "[0.23,4.922e-05,4.8685e-05],\n",
    "[0.25,0.0001084,8.4968e-05],\n",
    "[0.27,0,0],\n",
    "[0.29,0,0],\n",
    "[0.12,0.99152,0.0027053],\n",
    "[0.14,0.86184,0.028043],\n",
    "[0.16,0.29714,0.055185],\n",
    "[0.18,0.039206,0.013863],\n",
    "[0.2,0.0056277,0.0028284],\n",
    "[0.22,4.834e-05,3.6005e-05],\n",
    "[0.24,0.00082172,0.00081342],\n",
    "[0.26,0,0],\n",
    "[0.28,0,0],\n",
    "[0.3,9.406e-05,9.3115e-05],\n",
    "[0.1,0.99919,0.00010423]])\n",
    "\n",
    "\n",
    "kishnu = kishmatrix[:,0]\n",
    "kishrisk = kishmatrix[:,1]\n",
    "kisherror = kishmatrix[:,2]\n",
    "p_transversalconn= kishnu #np.arange(0,0.6,0.05) #nu\n",
    "\n",
    "\n",
    "\n",
    "time=100000\n",
    "number_of_systems=50\n",
    "\n"
   ]
  }
 ],
 "metadata": {
  "kernelspec": {
   "display_name": "Python 3",
   "language": "python",
   "name": "python3"
  },
  "language_info": {
   "codemirror_mode": {
    "name": "ipython",
    "version": 3
   },
   "file_extension": ".py",
   "mimetype": "text/x-python",
   "name": "python",
   "nbconvert_exporter": "python",
   "pygments_lexer": "ipython3",
   "version": "3.6.0"
  }
 },
 "nbformat": 4,
 "nbformat_minor": 0
}
